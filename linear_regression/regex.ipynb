{
 "cells": [
  {
   "cell_type": "code",
   "execution_count": 2,
   "metadata": {},
   "outputs": [
    {
     "data": {
      "text/plain": [
       "'Windows'"
      ]
     },
     "execution_count": 2,
     "metadata": {},
     "output_type": "execute_result"
    }
   ],
   "source": [
    "import re\n",
    "str31=\"Windows3.1 uio\"\n",
    "obj2000=re.search(r'Windows(?!2000)',str31)\n",
    "obj2000.group()"
   ]
  },
  {
   "cell_type": "code",
   "execution_count": 21,
   "metadata": {},
   "outputs": [
    {
     "data": {
      "text/plain": [
       "NoneType"
      ]
     },
     "execution_count": 21,
     "metadata": {},
     "output_type": "execute_result"
    }
   ],
   "source": [
    "obj31=re.search(r'Windows(?=2000)',str31)\n",
    "type(obj31)"
   ]
  },
  {
   "cell_type": "code",
   "execution_count": 14,
   "metadata": {},
   "outputs": [
    {
     "name": "stdout",
     "output_type": "stream",
     "text": [
      "Windows2000\n",
      "2000\n"
     ]
    }
   ],
   "source": [
    "str2000=\"Windows2000 bacdd\"\n",
    "obj2000=re.search(r'Windows(2000|98)',str2000)\n",
    "print(obj2000.group())\n",
    "print(obj2000.group(1))"
   ]
  },
  {
   "cell_type": "code",
   "execution_count": 23,
   "metadata": {},
   "outputs": [
    {
     "name": "stdout",
     "output_type": "stream",
     "text": [
      "Windows2000\n",
      "(0, 11)\n"
     ]
    }
   ],
   "source": [
    "str2000=\"Windows2000 bacdd\"\n",
    "obj2000=re.search(r'Windows(?:2000|98)',str2000)\n",
    "print(obj2000.group())\n",
    "print(obj2000.span())"
   ]
  },
  {
   "cell_type": "code",
   "execution_count": 26,
   "metadata": {},
   "outputs": [
    {
     "name": "stdout",
     "output_type": "stream",
     "text": [
      "Windows\n",
      "(0, 7)\n"
     ]
    }
   ],
   "source": [
    "str2000=\"Windows2000 bacdd\"\n",
    "obj2000=re.search(r'Windows(?=2000|98)',str2000)\n",
    "print(obj2000.group(0))\n",
    "print(obj2000.span(0))"
   ]
  },
  {
   "cell_type": "code",
   "execution_count": null,
   "metadata": {},
   "outputs": [],
   "source": []
  }
 ],
 "metadata": {
  "kernelspec": {
   "display_name": "Python 3",
   "language": "python",
   "name": "python3"
  },
  "language_info": {
   "codemirror_mode": {
    "name": "ipython",
    "version": 3
   },
   "file_extension": ".py",
   "mimetype": "text/x-python",
   "name": "python",
   "nbconvert_exporter": "python",
   "pygments_lexer": "ipython3",
   "version": "3.6.4"
  }
 },
 "nbformat": 4,
 "nbformat_minor": 2
}
